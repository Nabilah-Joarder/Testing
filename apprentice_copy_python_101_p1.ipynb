{
  "nbformat": 4,
  "nbformat_minor": 0,
  "metadata": {
    "colab": {
      "name": "apprentice_copy_python_101_p1.ipynb",
      "provenance": [],
      "include_colab_link": true
    },
    "kernelspec": {
      "name": "python3",
      "display_name": "Python 3"
    },
    "language_info": {
      "name": "python"
    }
  },
  "cells": [
    {
      "cell_type": "markdown",
      "metadata": {
        "id": "view-in-github",
        "colab_type": "text"
      },
      "source": [
        "<a href=\"https://colab.research.google.com/github/Nabilah-Joarder/Testing/blob/master/apprentice_copy_python_101_p1.ipynb\" target=\"_parent\"><img src=\"https://colab.research.google.com/assets/colab-badge.svg\" alt=\"Open In Colab\"/></a>"
      ]
    },
    {
      "cell_type": "markdown",
      "source": [
        "# Python 101 Part 1\n",
        "Python is a programming langauge. A programming language allows us to communicate instructions to a computer and tell it what we want it to do.\n",
        "\n",
        "We can use this to do all sorts of things such as building applications, web-scraping and data analysis. We're going to go through some of the essentials of Python so that you can hit the ground running on your Python journey.\n",
        "\n",
        "## Assigning variables and using a function\n",
        "A variable is essentially a named piece of data in Python that you will be able to use in the future by typing in the name again. They are an essential part of a programmers toolbox!\n",
        "\n",
        "You simply give the name of the variable followed by an = and then the value you want to assign to it!\n",
        "\n",
        "You can see in our output (the part below the code) there is a 5. The print function has taken the value stored as x and returned it in our output."
      ],
      "metadata": {
        "id": "0ftzoXuJ6Ggr"
      }
    },
    {
      "cell_type": "code",
      "source": [
        "x = 5"
      ],
      "metadata": {
        "id": "CBzo4xWS6Qso"
      },
      "execution_count": null,
      "outputs": []
    },
    {
      "cell_type": "markdown",
      "source": [
        "We now have a variable called x containing the value 5! This can be used in all sorts of ways and we're going to use it to introduce our first function, print! A function is a chunk of code someone else has written so that we don't have to. There are a vast number of functions available in Python by default, and even more that you can add to python using libraries.\n",
        "\n",
        "Print returns what you put inside it to your output (have a look below!):"
      ],
      "metadata": {
        "id": "W6GRUCEj6YK7"
      }
    },
    {
      "cell_type": "code",
      "source": [
        "print(x)"
      ],
      "metadata": {
        "colab": {
          "base_uri": "https://localhost:8080/"
        },
        "id": "3s6yt_eI6Y3U",
        "outputId": "7cb3c5a3-c79f-495b-a39f-122c2c6b2a93"
      },
      "execution_count": null,
      "outputs": [
        {
          "output_type": "stream",
          "name": "stdout",
          "text": [
            "5\n"
          ]
        }
      ]
    },
    {
      "cell_type": "markdown",
      "source": [
        "## Basic Data Types\n",
        "There are several basic data types we can use in Python. Let's explore them while assigning them to variables:"
      ],
      "metadata": {
        "id": "7AVcMiEt6vTA"
      }
    },
    {
      "cell_type": "code",
      "source": [
        "a = 10 # Integer - int\n",
        "\n",
        "b = True # Boolean - bool\n",
        "\n",
        "c = \"Hello world\" # String - str\n",
        "\n",
        "d = 10.999999 # Float - float"
      ],
      "metadata": {
        "id": "d05AxYoT7Aco"
      },
      "execution_count": null,
      "outputs": []
    },
    {
      "cell_type": "markdown",
      "source": [
        "We now have 4 different variables containing 4 different basic data types. Integers are whole numbers; booleans are True or False values; strings are character data; and Floats are numbers with decimal places!\n",
        "\n",
        "You can check the type of a variable using the type() function:"
      ],
      "metadata": {
        "id": "uMkGSv5J7Fks"
      }
    },
    {
      "cell_type": "code",
      "source": [
        "type(a), type(b), type(c), type(d)"
      ],
      "metadata": {
        "colab": {
          "base_uri": "https://localhost:8080/"
        },
        "id": "KAssmmdy7fkB",
        "outputId": "18718da7-c14e-4694-b518-8236473864a1"
      },
      "execution_count": null,
      "outputs": [
        {
          "output_type": "execute_result",
          "data": {
            "text/plain": [
              "(int, bool, str, float)"
            ]
          },
          "metadata": {},
          "execution_count": 5
        }
      ]
    },
    {
      "cell_type": "markdown",
      "source": [
        "### Wrong type? Change it!\n",
        "Sometimes we need to have our data as a certain type in order to use it properly. For example, here are 2 numbers but in the string data type:"
      ],
      "metadata": {
        "id": "vVniDzdy7txo"
      }
    },
    {
      "cell_type": "code",
      "source": [
        "num1 = \"10\"\n",
        "num2= \"15\""
      ],
      "metadata": {
        "id": "yeYaNbzE8D2J"
      },
      "execution_count": null,
      "outputs": []
    },
    {
      "cell_type": "markdown",
      "source": [
        "We would expect adding these together to make the number 25, however when you add string together in python they concatenate instead:"
      ],
      "metadata": {
        "id": "k6POeK4p8JOQ"
      }
    },
    {
      "cell_type": "code",
      "source": [
        "print(num1 + num2)"
      ],
      "metadata": {
        "colab": {
          "base_uri": "https://localhost:8080/"
        },
        "id": "5kLmUMEN8WfJ",
        "outputId": "ccc46e89-2bb7-421f-dc3a-dfac2f0aa6f2"
      },
      "execution_count": null,
      "outputs": [
        {
          "output_type": "stream",
          "name": "stdout",
          "text": [
            "1015\n"
          ]
        }
      ]
    },
    {
      "cell_type": "markdown",
      "source": [
        "To get the answer we're looking for we need to convert the type to an integer, easily done using their shorthand type name. In this case we use `int()` to convert it to an integer:"
      ],
      "metadata": {
        "id": "-5iKMaB98a8r"
      }
    },
    {
      "cell_type": "code",
      "source": [
        "print(int(num1) + int(num2))"
      ],
      "metadata": {
        "colab": {
          "base_uri": "https://localhost:8080/"
        },
        "id": "CpiqcITJ8lVw",
        "outputId": "17de8631-4a8e-47f7-f03b-124b477f979c"
      },
      "execution_count": null,
      "outputs": [
        {
          "output_type": "stream",
          "name": "stdout",
          "text": [
            "25\n"
          ]
        }
      ]
    },
    {
      "cell_type": "markdown",
      "metadata": {
        "id": "UFAFXcO-WWvX"
      },
      "source": [
        "### Variables and basic maths\n",
        "As you might expect, maths still works on integers and floats! Here are some common uses:"
      ]
    },
    {
      "cell_type": "code",
      "metadata": {
        "colab": {
          "base_uri": "https://localhost:8080/"
        },
        "id": "OTTu8_nFXTHX",
        "outputId": "0ad11c72-f388-43cf-cffc-4f4e949a59db"
      },
      "source": [
        "var1 = 3 # assign the value 3 to var1\n",
        "var2 = 5 # assign the value 5 to var2\n",
        "\n",
        "# addition:\n",
        "print(var1 + var2) # 3 + 5\n",
        "\n",
        "# subtraction:\n",
        "print(var2 - var1) # 5 - 3\n",
        "\n",
        "# division:\n",
        "print(var2/var1) # 5/3\n",
        "\n",
        "# multiplication:\n",
        "print(var1*var2) # 3*5\n",
        "\n",
        "# floor division:\n",
        "print(var2//var1) # 5//3 returns the largest possible integer \n",
        "# but will never go higher than the value from normal division\n",
        "\n",
        "# to the power of (exponentiation):\n",
        "print(var1**2) # 3**2\n",
        "\n",
        "# modulus (finding the remainder):\n",
        "print(var2%var1) # 5%3"
      ],
      "execution_count": null,
      "outputs": [
        {
          "output_type": "stream",
          "name": "stdout",
          "text": [
            "8\n",
            "2\n",
            "1.6666666666666667\n",
            "15\n",
            "1\n",
            "9\n",
            "2\n"
          ]
        }
      ]
    },
    {
      "cell_type": "markdown",
      "metadata": {
        "id": "9bm6yaxpanKv"
      },
      "source": [
        "#### Finding odd/even using modulo\n",
        "You can use the remainder to discover if something is an odd or even number by finding the remainder after dividing by 2:"
      ]
    },
    {
      "cell_type": "code",
      "metadata": {
        "colab": {
          "base_uri": "https://localhost:8080/"
        },
        "id": "HPGK5ke4aVVd",
        "outputId": "dac22d7e-1f1a-432f-b06e-ff3ccf793872"
      },
      "source": [
        "even = 12\n",
        "odd = 7\n",
        "\n",
        "print(\"when a value is odd modulo 2 returns:\")\n",
        "print(odd%2)\n",
        "print(\"when a value is even, modulo 2 returns:\")\n",
        "print(even%2)"
      ],
      "execution_count": null,
      "outputs": [
        {
          "output_type": "stream",
          "name": "stdout",
          "text": [
            "when a value is odd modulo 2 returns:\n",
            "1\n",
            "when a value is even, modulo 2 returns:\n",
            "0\n"
          ]
        }
      ]
    },
    {
      "cell_type": "markdown",
      "source": [
        "## Complex Data Types"
      ],
      "metadata": {
        "id": "E2HrfRRL9VZA"
      }
    },
    {
      "cell_type": "markdown",
      "metadata": {
        "id": "nIFKGwj8cEx3"
      },
      "source": [
        "### Introducing lists\n",
        "We can also include something called a list inside a variable, allowing us to store more than one peice of information in the same variable. You do this using square brackets around each piece of information, separeated by a comma:"
      ]
    },
    {
      "cell_type": "code",
      "metadata": {
        "colab": {
          "base_uri": "https://localhost:8080/"
        },
        "id": "lpNDKQLxcbBs",
        "outputId": "e469977c-3c87-4217-c8a9-45357b584865"
      },
      "source": [
        "my_fruits = [\"apple\", \"goji berry\", \"boabab fruit\"]\n",
        "print(my_fruits)"
      ],
      "execution_count": null,
      "outputs": [
        {
          "output_type": "stream",
          "name": "stdout",
          "text": [
            "['apple', 'goji berry', 'boabab fruit']\n"
          ]
        }
      ]
    },
    {
      "cell_type": "markdown",
      "metadata": {
        "id": "o1VjcMnKcobF"
      },
      "source": [
        "When we printed the list we got the entire list back. You can return specific items from within a list by using something called their index position.\n",
        "\n",
        "In python, each item in a list has a position. The first item is in position 0, and further items are in position 1, 2, 3 etc going up one each time. To return the item at a given position you add square brackets after the list:"
      ]
    },
    {
      "cell_type": "code",
      "metadata": {
        "colab": {
          "base_uri": "https://localhost:8080/"
        },
        "id": "jrjFYgdOdP9D",
        "outputId": "7b9b554b-af63-45fb-d565-40273c564437"
      },
      "source": [
        "print(my_fruits[1])"
      ],
      "execution_count": null,
      "outputs": [
        {
          "output_type": "stream",
          "name": "stdout",
          "text": [
            "goji berry\n"
          ]
        }
      ]
    },
    {
      "cell_type": "markdown",
      "metadata": {
        "id": "0jCGfvcUdTtF"
      },
      "source": [
        "Goji berry is our 2nd item in the list, however it is found at position 1 because we start at 0!\n",
        "\n",
        "Lists can also hold different data types (such as integer and string):"
      ]
    },
    {
      "cell_type": "code",
      "metadata": {
        "colab": {
          "base_uri": "https://localhost:8080/"
        },
        "id": "1hPeRHoCdiZW",
        "outputId": "bc2ce812-1de5-48d1-955d-31d665457ff2"
      },
      "source": [
        "my_nums = [\"three\", 1, \"two\"]\n",
        "print(my_nums[0])\n",
        "print(my_nums[1])"
      ],
      "execution_count": null,
      "outputs": [
        {
          "output_type": "stream",
          "name": "stdout",
          "text": [
            "three\n",
            "1\n"
          ]
        }
      ]
    },
    {
      "cell_type": "markdown",
      "metadata": {
        "id": "eLn7YJ1bd6Mu"
      },
      "source": [
        "or even other lists:"
      ]
    },
    {
      "cell_type": "code",
      "metadata": {
        "colab": {
          "base_uri": "https://localhost:8080/"
        },
        "id": "WfrPrU-yd8SE",
        "outputId": "433c846c-805a-4f38-cc58-653e9981e929"
      },
      "source": [
        "listception = [[\"apple\", \"goji berry\", \"boabab fruit\"], [\"three\", 1, \"two\"]]\n",
        "print(listception[0])\n",
        "print(listception[0][2]) # Two sets of square brackets to get the 1st list and then get the 3rd item inside that list"
      ],
      "execution_count": null,
      "outputs": [
        {
          "output_type": "stream",
          "name": "stdout",
          "text": [
            "['apple', 'goji berry', 'boabab fruit']\n",
            "boabab fruit\n"
          ]
        }
      ]
    },
    {
      "cell_type": "markdown",
      "source": [
        "#### Useful list methods\n",
        "\n",
        "Here are some of the methods we can use with a list. Methods are called by naming the list followed by a full stop and then the name of the method:"
      ],
      "metadata": {
        "id": "W9CUbeG59ums"
      }
    },
    {
      "cell_type": "code",
      "source": [
        "my_fruits.append(\"lemon\")  # adds an item to the end of the list\n",
        "print(my_fruits)"
      ],
      "metadata": {
        "colab": {
          "base_uri": "https://localhost:8080/"
        },
        "id": "SYT_HtoF9tmQ",
        "outputId": "7d2a8f16-be8d-430e-ed2c-a55c5e6cbc9d"
      },
      "execution_count": null,
      "outputs": [
        {
          "output_type": "stream",
          "name": "stdout",
          "text": [
            "['apple', 'goji berry', 'boabab fruit', 'lemon']\n"
          ]
        }
      ]
    },
    {
      "cell_type": "code",
      "source": [
        "my_fruits.pop(3)  # removes an item at a given index position\n",
        "print(my_fruits)"
      ],
      "metadata": {
        "colab": {
          "base_uri": "https://localhost:8080/"
        },
        "id": "gOh8UAOH-oDu",
        "outputId": "b9c369c4-e633-4ab1-ee7d-bb09bb9a5a7c"
      },
      "execution_count": null,
      "outputs": [
        {
          "output_type": "stream",
          "name": "stdout",
          "text": [
            "['apple', 'goji berry', 'boabab fruit']\n"
          ]
        }
      ]
    },
    {
      "cell_type": "code",
      "source": [
        "my_fruits.reverse()  # reverses the list\n",
        "print(my_fruits)"
      ],
      "metadata": {
        "colab": {
          "base_uri": "https://localhost:8080/"
        },
        "id": "UFtQpepH_Ps2",
        "outputId": "0fb46eaa-24e1-47be-e4f6-bfdbfd7fb61c"
      },
      "execution_count": null,
      "outputs": [
        {
          "output_type": "stream",
          "name": "stdout",
          "text": [
            "['boabab fruit', 'goji berry', 'apple']\n"
          ]
        }
      ]
    },
    {
      "cell_type": "code",
      "source": [
        "my_fruits.sort() # sorts the list\n",
        "print(my_fruits)"
      ],
      "metadata": {
        "colab": {
          "base_uri": "https://localhost:8080/"
        },
        "id": "i1HBsAgy_Z1y",
        "outputId": "e995d6b0-13ed-4824-c634-b152b7c6c936"
      },
      "execution_count": null,
      "outputs": [
        {
          "output_type": "stream",
          "name": "stdout",
          "text": [
            "['apple', 'boabab fruit', 'goji berry']\n"
          ]
        }
      ]
    },
    {
      "cell_type": "markdown",
      "source": [
        "### Tuples\n",
        "Tuples are similar to a list, however they are what is known as immutable. This means that once you create a tuple, you can't change it. This means you can't add or remove items from a tuple."
      ],
      "metadata": {
        "id": "hjez6U5n_mgg"
      }
    },
    {
      "cell_type": "code",
      "source": [
        "fruits_tuple = (\"apple\", \"goji berry\", \"boabab fruit\")\n",
        "\n",
        "print(fruits_tuple)"
      ],
      "metadata": {
        "colab": {
          "base_uri": "https://localhost:8080/"
        },
        "id": "QRERj7V0_7Sw",
        "outputId": "39c37d14-2eab-4214-89b7-ff8b1a78f518"
      },
      "execution_count": null,
      "outputs": [
        {
          "output_type": "stream",
          "name": "stdout",
          "text": [
            "('apple', 'goji berry', 'boabab fruit')\n"
          ]
        }
      ]
    },
    {
      "cell_type": "markdown",
      "source": [
        "You can still return specific elements from a tuple using their index positions:"
      ],
      "metadata": {
        "id": "nj2TQnG_AKun"
      }
    },
    {
      "cell_type": "code",
      "source": [
        "fruits_tuple[1]"
      ],
      "metadata": {
        "colab": {
          "base_uri": "https://localhost:8080/",
          "height": 35
        },
        "id": "LL7jtJzoAHjV",
        "outputId": "553d8e5a-253d-4d6b-c221-c44e436e7a03"
      },
      "execution_count": null,
      "outputs": [
        {
          "output_type": "execute_result",
          "data": {
            "application/vnd.google.colaboratory.intrinsic+json": {
              "type": "string"
            },
            "text/plain": [
              "'goji berry'"
            ]
          },
          "metadata": {},
          "execution_count": 19
        }
      ]
    },
    {
      "cell_type": "markdown",
      "source": [
        "But try to change them and you'll be met with an error:"
      ],
      "metadata": {
        "id": "g0Km9gVDAQUT"
      }
    },
    {
      "cell_type": "code",
      "source": [
        "fruits_tuple[1] = \"orange\""
      ],
      "metadata": {
        "id": "0dHVytS6ATcs",
        "outputId": "b790e715-b249-45df-88bb-6b5f9a104624",
        "colab": {
          "base_uri": "https://localhost:8080/",
          "height": 165
        }
      },
      "execution_count": null,
      "outputs": [
        {
          "output_type": "error",
          "ename": "TypeError",
          "evalue": "ignored",
          "traceback": [
            "\u001b[0;31m---------------------------------------------------------------------------\u001b[0m",
            "\u001b[0;31mTypeError\u001b[0m                                 Traceback (most recent call last)",
            "\u001b[0;32m<ipython-input-20-c2b5b830ea36>\u001b[0m in \u001b[0;36m<module>\u001b[0;34m()\u001b[0m\n\u001b[0;32m----> 1\u001b[0;31m \u001b[0mfruits_tuple\u001b[0m\u001b[0;34m[\u001b[0m\u001b[0;36m1\u001b[0m\u001b[0;34m]\u001b[0m \u001b[0;34m=\u001b[0m \u001b[0;34m\"orange\"\u001b[0m\u001b[0;34m\u001b[0m\u001b[0;34m\u001b[0m\u001b[0m\n\u001b[0m",
            "\u001b[0;31mTypeError\u001b[0m: 'tuple' object does not support item assignment"
          ]
        }
      ]
    },
    {
      "cell_type": "markdown",
      "source": [
        "### Sets\n",
        "Sets are also similar to lists; they are mutable (meaning they can be added to/changed) however they are unordered - That means they can't be referred to by index position:"
      ],
      "metadata": {
        "id": "DT7XcGYOlFg0"
      }
    },
    {
      "cell_type": "code",
      "source": [
        "names = {\"Name 1\", \"Another Name\", \"Too many names\"}\n",
        "print(names)"
      ],
      "metadata": {
        "colab": {
          "base_uri": "https://localhost:8080/"
        },
        "id": "ykpeBQGdlffc",
        "outputId": "93277a72-a06e-4810-a5d9-c4aaaf17f0d5"
      },
      "execution_count": null,
      "outputs": [
        {
          "output_type": "stream",
          "name": "stdout",
          "text": [
            "{'Another Name', 'Too many names', 'Name 1'}\n"
          ]
        }
      ]
    },
    {
      "cell_type": "markdown",
      "source": [
        "Adding an item to a set is done using the `.add()` method:"
      ],
      "metadata": {
        "id": "AToh4oHyl1ko"
      }
    },
    {
      "cell_type": "code",
      "source": [
        "names.add('name 2')\n",
        "print(names)"
      ],
      "metadata": {
        "colab": {
          "base_uri": "https://localhost:8080/"
        },
        "id": "rNZ3n9PLl7DT",
        "outputId": "8e273678-7a4b-46db-f0b3-182977267b07"
      },
      "execution_count": null,
      "outputs": [
        {
          "output_type": "stream",
          "name": "stdout",
          "text": [
            "{'name 2', 'Another Name', 'Too many names', 'Name 1'}\n"
          ]
        }
      ]
    },
    {
      "cell_type": "markdown",
      "source": [
        "Can you add ther same item more than once?"
      ],
      "metadata": {
        "id": "r4U8RoqCmJMa"
      }
    },
    {
      "cell_type": "code",
      "source": [
        "names.add('name 2')\n",
        "print(names)"
      ],
      "metadata": {
        "colab": {
          "base_uri": "https://localhost:8080/"
        },
        "id": "G-gsNLozmHBl",
        "outputId": "1445972c-cf1f-4dbd-ab8d-ad9442664238"
      },
      "execution_count": null,
      "outputs": [
        {
          "output_type": "stream",
          "name": "stdout",
          "text": [
            "{'name 2', 'Another Name', 'Too many names', 'Name 1'}\n"
          ]
        }
      ]
    },
    {
      "cell_type": "markdown",
      "source": [
        "No, you can't. A set can only contain unique items, any duplicated values are removed. \n",
        "\n",
        "We mentioned sets being unordered, lets see what happens if we try to return name 2 using an index position:"
      ],
      "metadata": {
        "id": "dj0NgfRzmQZX"
      }
    },
    {
      "cell_type": "code",
      "source": [
        "names[0]"
      ],
      "metadata": {
        "colab": {
          "base_uri": "https://localhost:8080/",
          "height": 165
        },
        "id": "eOXLN-oGmoF9",
        "outputId": "2df98c28-6266-460a-9e98-70eb7c37205e"
      },
      "execution_count": null,
      "outputs": [
        {
          "output_type": "error",
          "ename": "TypeError",
          "evalue": "ignored",
          "traceback": [
            "\u001b[0;31m---------------------------------------------------------------------------\u001b[0m",
            "\u001b[0;31mTypeError\u001b[0m                                 Traceback (most recent call last)",
            "\u001b[0;32m<ipython-input-5-d55c7c28fed3>\u001b[0m in \u001b[0;36m<module>\u001b[0;34m()\u001b[0m\n\u001b[0;32m----> 1\u001b[0;31m \u001b[0mnames\u001b[0m\u001b[0;34m[\u001b[0m\u001b[0;36m0\u001b[0m\u001b[0;34m]\u001b[0m\u001b[0;34m\u001b[0m\u001b[0;34m\u001b[0m\u001b[0m\n\u001b[0m",
            "\u001b[0;31mTypeError\u001b[0m: 'set' object is not subscriptable"
          ]
        }
      ]
    },
    {
      "cell_type": "markdown",
      "source": [
        "We get an error because sets don't have an index position. If you need to be able to refer to each item using index positions, use a list instead.\n",
        "\n",
        "#### other useful set methods:\n",
        "\n",
        "Remove an item from the set:"
      ],
      "metadata": {
        "id": "faQIRV_DmsJ1"
      }
    },
    {
      "cell_type": "code",
      "source": [
        "names.remove('name 2')\n",
        "print(names)"
      ],
      "metadata": {
        "colab": {
          "base_uri": "https://localhost:8080/"
        },
        "id": "jrNNJo7Hm79c",
        "outputId": "a1e39cce-dbf7-4d4c-d3cb-c2ef1f235d8f"
      },
      "execution_count": null,
      "outputs": [
        {
          "output_type": "stream",
          "name": "stdout",
          "text": [
            "{'Another Name', 'Too many names', 'Name 1'}\n"
          ]
        }
      ]
    },
    {
      "cell_type": "markdown",
      "source": [
        "Clear (empty) the set:"
      ],
      "metadata": {
        "id": "UgVqMbHouYya"
      }
    },
    {
      "cell_type": "code",
      "source": [
        "names.clear()\n",
        "print(names)"
      ],
      "metadata": {
        "colab": {
          "base_uri": "https://localhost:8080/"
        },
        "id": "3FTwYaWFucJ_",
        "outputId": "52ef9364-a6f3-4035-f229-3259bc3b8e8c"
      },
      "execution_count": null,
      "outputs": [
        {
          "output_type": "stream",
          "name": "stdout",
          "text": [
            "set()\n"
          ]
        }
      ]
    },
    {
      "cell_type": "markdown",
      "source": [
        "### Dictionaries\n",
        "Dictionaries are similar to sets but have one important difference. They are still unordered (no index positions) but they have a 'label' that can be used to return specific information.\n",
        "\n",
        "See an example of a dictionary below:"
      ],
      "metadata": {
        "id": "PkwNBQrtwbvf"
      }
    },
    {
      "cell_type": "code",
      "source": [
        "coach_to_course = {\"Andrei\": \"DF4\",\n",
        "           \"Eduardo\": \"DF4\",\n",
        "           \"Jamie\": \"PLP\",\n",
        "           \"Sharon\": \"PM\",\n",
        "           \"Jasmine\": \"DM\",\n",
        "           \"Rachel\": \"DF4\",\n",
        "           \"Ross\": \"DF4\"}"
      ],
      "metadata": {
        "id": "yOtyg93Dw13A"
      },
      "execution_count": null,
      "outputs": []
    },
    {
      "cell_type": "markdown",
      "source": [
        "We still use curly brackets like we did with sets, however now we give a key e.g. `Andrei` and a value e.g. `DF4`. When we want to retrieve information from a dictionary we reference the key inside square brackets:"
      ],
      "metadata": {
        "id": "ISk7WNYExeJh"
      }
    },
    {
      "cell_type": "code",
      "source": [
        "coach_to_course['Andrei']"
      ],
      "metadata": {
        "colab": {
          "base_uri": "https://localhost:8080/",
          "height": 34
        },
        "id": "nQjy4xHpyaLC",
        "outputId": "47bab85a-626d-41b2-dce6-7af7fa6dbaf1"
      },
      "execution_count": null,
      "outputs": [
        {
          "output_type": "execute_result",
          "data": {
            "application/vnd.google.colaboratory.intrinsic+json": {
              "type": "string"
            },
            "text/plain": [
              "'DF4'"
            ]
          },
          "metadata": {},
          "execution_count": 12
        }
      ]
    },
    {
      "cell_type": "markdown",
      "source": [
        "Dictionaries are very useful for holding a lot of complex information, for example you can mimic a table using lists in the values:"
      ],
      "metadata": {
        "id": "3v8u4RXRyei1"
      }
    },
    {
      "cell_type": "code",
      "source": [
        "my_data = {'cost': [100, 200, 300],\n",
        "           'gross': [175, 225, 450],\n",
        "           'net_profit': [75, 25, 150]}"
      ],
      "metadata": {
        "id": "U_KHBVzCyos8"
      },
      "execution_count": null,
      "outputs": []
    },
    {
      "cell_type": "markdown",
      "source": [
        "Often lists are used inside dictionaries. When we do this we can get a specific value back by following the key reference with another set of square brackets for the index position in the list:"
      ],
      "metadata": {
        "id": "Wj-j8VZ_zNRp"
      }
    },
    {
      "cell_type": "code",
      "source": [
        "my_data['cost'][0]"
      ],
      "metadata": {
        "colab": {
          "base_uri": "https://localhost:8080/"
        },
        "id": "4JUAVZsMzJKk",
        "outputId": "d9e93a37-4bd2-447d-97ee-2f2eeac7601d"
      },
      "execution_count": null,
      "outputs": [
        {
          "output_type": "execute_result",
          "data": {
            "text/plain": [
              "100"
            ]
          },
          "metadata": {},
          "execution_count": 14
        }
      ]
    },
    {
      "cell_type": "markdown",
      "source": [
        "Adding items to a dictionary is easy, simply reference a key that doesn't exist yet and assign it a value (in this case another list):"
      ],
      "metadata": {
        "id": "WfZ-5I5mzdFR"
      }
    },
    {
      "cell_type": "code",
      "source": [
        "my_data['in_stock'] = [True, True, False]\n",
        "print(my_data)"
      ],
      "metadata": {
        "colab": {
          "base_uri": "https://localhost:8080/"
        },
        "id": "eIttBu_WzLw0",
        "outputId": "1a0c58e9-81f9-4586-f2cd-c5cc6f3dbda3"
      },
      "execution_count": null,
      "outputs": [
        {
          "output_type": "stream",
          "name": "stdout",
          "text": [
            "{'cost': [100, 200, 300], 'gross': [175, 225, 450], 'net_profit': [75, 25, 150], 'in_stock': [True, True, False]}\n"
          ]
        }
      ]
    },
    {
      "cell_type": "markdown",
      "source": [
        "To remove an item we use a method called `.pop()`:"
      ],
      "metadata": {
        "id": "LgmBWZuV12W7"
      }
    },
    {
      "cell_type": "code",
      "source": [
        "my_data.pop('in_stock') # removes an item from the dictionary and returns it"
      ],
      "metadata": {
        "colab": {
          "base_uri": "https://localhost:8080/"
        },
        "id": "MzGkMhD_16gZ",
        "outputId": "f98b0817-cf8c-49dc-e786-3c98826e1d1a"
      },
      "execution_count": null,
      "outputs": [
        {
          "output_type": "execute_result",
          "data": {
            "text/plain": [
              "[True, True, False]"
            ]
          },
          "metadata": {},
          "execution_count": 23
        }
      ]
    },
    {
      "cell_type": "code",
      "source": [
        "print(my_data)"
      ],
      "metadata": {
        "colab": {
          "base_uri": "https://localhost:8080/"
        },
        "id": "q7TcbZOh1_-B",
        "outputId": "d1240515-3154-4d70-ca37-603ab28c3dd3"
      },
      "execution_count": null,
      "outputs": [
        {
          "output_type": "stream",
          "name": "stdout",
          "text": [
            "{'cost': [100, 200, 300], 'gross': [175, 225, 450], 'net_profit': [75, 25, 150]}\n"
          ]
        }
      ]
    },
    {
      "cell_type": "markdown",
      "source": [
        "Dictionaries within dictionaries can allow a slightly different approach to storing your information (although you have to put up with writing a lot of syntax!):"
      ],
      "metadata": {
        "id": "HLkY0kPg2Ozx"
      }
    },
    {
      "cell_type": "code",
      "source": [
        "contacts = {'Frodo': {'contact': 'wax sealed envelope',\n",
        "                      'address': 'Bag End, Hobbiton, The Shire'},\n",
        "            'Harry': {'contact': 'Hedwig',\n",
        "                      'address': '4 Privet Drive, Surrey'},\n",
        "            'Aslan': {'contact': 'hope?',\n",
        "                      'address': 'Narnia'}}"
      ],
      "metadata": {
        "id": "gl9RZ2I02bFp"
      },
      "execution_count": null,
      "outputs": []
    },
    {
      "cell_type": "code",
      "source": [
        "contacts['Harry']['address']"
      ],
      "metadata": {
        "colab": {
          "base_uri": "https://localhost:8080/",
          "height": 34
        },
        "id": "S8g7OMxB4mXk",
        "outputId": "38796fa3-c802-4276-e91b-0c0cb995d029"
      },
      "execution_count": null,
      "outputs": [
        {
          "output_type": "execute_result",
          "data": {
            "application/vnd.google.colaboratory.intrinsic+json": {
              "type": "string"
            },
            "text/plain": [
              "'4 Privet Drive, Surrey'"
            ]
          },
          "metadata": {},
          "execution_count": 26
        }
      ]
    },
    {
      "cell_type": "markdown",
      "source": [
        "## Excercises\n",
        "Feel free to start from the beggining and work through them all, or pick a place to start. None of the questions will  rely on previous questions being answered to work!\n",
        "\n",
        "### Beginner\n",
        "Q1: Create a variable called `x` and assign it the value `101`:"
      ],
      "metadata": {
        "id": "gKWv79T35ENi"
      }
    },
    {
      "cell_type": "code",
      "source": [
        ""
      ],
      "metadata": {
        "id": "oe6zsv_p5kXs"
      },
      "execution_count": null,
      "outputs": []
    },
    {
      "cell_type": "markdown",
      "source": [
        "Q2: create 2 variables, `x` and `y`, and give them the values `4` and `5`. Use mathematical operators to multiply `4` by `5`, returning the output using the print function:"
      ],
      "metadata": {
        "id": "MfvbmcDW5mDX"
      }
    },
    {
      "cell_type": "code",
      "source": [
        ""
      ],
      "metadata": {
        "id": "yO2v0XxS53rJ"
      },
      "execution_count": null,
      "outputs": []
    },
    {
      "cell_type": "markdown",
      "source": [
        "Q3: Create a list called `colours` containing the values: `orange`, `purple`, `green`"
      ],
      "metadata": {
        "id": "fbITDMOG54P5"
      }
    },
    {
      "cell_type": "code",
      "source": [
        ""
      ],
      "metadata": {
        "id": "Hugl3FAu6JlR"
      },
      "execution_count": null,
      "outputs": []
    },
    {
      "cell_type": "markdown",
      "source": [
        "Q4: append the colour `magenta` to the list"
      ],
      "metadata": {
        "id": "X2v1C3if6TEa"
      }
    },
    {
      "cell_type": "code",
      "source": [
        ""
      ],
      "metadata": {
        "id": "a2r0kkQy6i14"
      },
      "execution_count": null,
      "outputs": []
    },
    {
      "cell_type": "markdown",
      "source": [
        "Q5: Create a tuple called `parts` containing `bolt`, `screw`, `washer`"
      ],
      "metadata": {
        "id": "h9sEo4IR6kEw"
      }
    },
    {
      "cell_type": "code",
      "source": [
        ""
      ],
      "metadata": {
        "id": "czzamZhd6zWs"
      },
      "execution_count": null,
      "outputs": []
    },
    {
      "cell_type": "markdown",
      "source": [
        "Q6: Create a set called `names` containing `Arthur`, `Molly`, `Fred`"
      ],
      "metadata": {
        "id": "WKG9Q61Q606w"
      }
    },
    {
      "cell_type": "code",
      "source": [
        ""
      ],
      "metadata": {
        "id": "4CtonC4E7FaD"
      },
      "execution_count": null,
      "outputs": []
    },
    {
      "cell_type": "markdown",
      "source": [
        "Q7: Add `George` to the set"
      ],
      "metadata": {
        "id": "UWTQzCiI7IAd"
      }
    },
    {
      "cell_type": "code",
      "source": [
        ""
      ],
      "metadata": {
        "id": "vR00GiK07LrB"
      },
      "execution_count": null,
      "outputs": []
    },
    {
      "cell_type": "markdown",
      "source": [
        "Q8: Create a dictionary called `fruit` with the keys: `orange`, `bannana`, `strawberry` and the values: `citrus`, `berry`, `nut` respectively"
      ],
      "metadata": {
        "id": "xfseG8MB7MOO"
      }
    },
    {
      "cell_type": "code",
      "source": [
        ""
      ],
      "metadata": {
        "id": "yOocdSYN70C8"
      },
      "execution_count": null,
      "outputs": []
    },
    {
      "cell_type": "markdown",
      "source": [
        "### Intermediate\n",
        "Q1: Create a list called `fraud_watch` containing two lists, one containing `is_fraud`, `is_risk`, `is_actioned` and the other: `True`, `False`, `False`"
      ],
      "metadata": {
        "id": "f0B5qgy0717S"
      }
    },
    {
      "cell_type": "code",
      "source": [
        ""
      ],
      "metadata": {
        "id": "Y9QenNxb8Qya"
      },
      "execution_count": null,
      "outputs": []
    },
    {
      "cell_type": "markdown",
      "source": [
        "Q2: Return the 1st value from the 2nd list using index positions:"
      ],
      "metadata": {
        "id": "VEomc9Fh8SRp"
      }
    },
    {
      "cell_type": "code",
      "source": [
        ""
      ],
      "metadata": {
        "id": "5HTAS_1n8kIx"
      },
      "execution_count": null,
      "outputs": []
    },
    {
      "cell_type": "markdown",
      "source": [
        "Q3: Create a dictionary called `supporters` with they keys: `name` and `donation` and the values `Harold`, `Janice` as a list for names and `10`, `30` as a list for donation"
      ],
      "metadata": {
        "id": "cVZQujP48k34"
      }
    },
    {
      "cell_type": "code",
      "source": [
        ""
      ],
      "metadata": {
        "id": "dV2jYUAf9IrV"
      },
      "execution_count": null,
      "outputs": []
    },
    {
      "cell_type": "markdown",
      "source": [
        "Q4: Return the name `Janice` to the output"
      ],
      "metadata": {
        "id": "9gfX_jkE9TAq"
      }
    },
    {
      "cell_type": "code",
      "source": [
        ""
      ],
      "metadata": {
        "id": "xFM61ISu9cdQ"
      },
      "execution_count": null,
      "outputs": []
    },
    {
      "cell_type": "markdown",
      "source": [
        "### Advanced\n",
        "Q1: Create a dictionary called `shopping` with the following structure:\n",
        "\n",
        "`Orange : {amount : 4, cost : 0.75}`<br>\n",
        "`Oat Milk : {amount : 2, cost : 3.50}`\n"
      ],
      "metadata": {
        "id": "7lWPmBEh9hzM"
      }
    },
    {
      "cell_type": "code",
      "source": [
        ""
      ],
      "metadata": {
        "id": "4I7Iwbgc-QcT"
      },
      "execution_count": null,
      "outputs": []
    },
    {
      "cell_type": "markdown",
      "source": [
        "Q2: Create a dictionary that represents this dataset:\n",
        "\n",
        "![image.png](data:image/png;base64,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)"
      ],
      "metadata": {
        "id": "bkn00WrG-3fh"
      }
    },
    {
      "cell_type": "code",
      "source": [
        ""
      ],
      "metadata": {
        "id": "KwVvlGMH--DJ"
      },
      "execution_count": null,
      "outputs": []
    },
    {
      "cell_type": "markdown",
      "source": [
        "Q3: What will be returned by the above code? Put you answer next to `#A: ` before running the code."
      ],
      "metadata": {
        "id": "bhVigXSGK9_A"
      }
    },
    {
      "cell_type": "code",
      "source": [
        "overlisted = ['101', [[1, 2, 3, 4, 5, 6, 7, 8, 9, 10], [12, 45, 23, 47, 57, 68], ['potato', 'kangaroo' , [[4, 5, 6], [1, 2, 3]]]]]\n",
        "\n",
        "overlisted[1][2][2][1][0]\n",
        "\n",
        "#A: "
      ],
      "metadata": {
        "id": "uhrzUYsALKKq"
      },
      "execution_count": null,
      "outputs": []
    },
    {
      "cell_type": "markdown",
      "source": [
        "Q4: Do something we haven't taught you. A key part of learning Python is acknowledging that nobody is going to show you absolutely everything you'll want to do. Python is at it's best when you can start to figure out what to do yourself using google!\n",
        "\n",
        "Given a word, in this case `aardvark`, return `True` if it is found in the list and `False` if it is not:"
      ],
      "metadata": {
        "id": "JScLS3YxNFxr"
      }
    },
    {
      "cell_type": "code",
      "source": [
        "# Starter code - DO NOT CHANGE\n",
        "word = 'aardvark'\n",
        "\n",
        "animals = ['cow', 'secretary bird', 'komodo dragon']\n",
        "\n",
        "# Put your code below:\n",
        "\n"
      ],
      "metadata": {
        "id": "G5R_k9nCN0aP"
      },
      "execution_count": null,
      "outputs": []
    },
    {
      "cell_type": "markdown",
      "source": [
        "Q5: Sandbox!\n",
        "\n",
        "Look up methods we haven't covered for lists/tuples/sets/dictionaries and try any that you think are interesting, or try to put one of your work tables into a Python dictionary!"
      ],
      "metadata": {
        "id": "ylmP5R4gOzUp"
      }
    },
    {
      "cell_type": "code",
      "source": [
        ""
      ],
      "metadata": {
        "id": "pZJME6urPbAv"
      },
      "execution_count": null,
      "outputs": []
    },
    {
      "cell_type": "markdown",
      "source": [
        "# Answers"
      ],
      "metadata": {
        "id": "PuoyKA2KSvTM"
      }
    },
    {
      "cell_type": "code",
      "source": [
        "# Beginner\n",
        "# Q1\n",
        "x = 101\n",
        "\n",
        "\n",
        "\n",
        "# Q2\n",
        "x = 4\n",
        "y = 5\n",
        "print(x * y)\n",
        "\n",
        "\n",
        "\n",
        "# Q3\n",
        "colours = ['orange', 'purple', 'green']\n",
        "\n",
        "\n",
        "\n",
        "# Q4\n",
        "colours.append('magenta')\n",
        "\n",
        "\n",
        "\n",
        "# Q5\n",
        "parts = ('bolt', 'screw', 'washer')\n",
        "\n",
        "\n",
        "\n",
        "# Q6\n",
        "names = {'Arthur', 'Molly',  'Fred'}\n",
        "\n",
        "\n",
        "\n",
        "# Q7\n",
        "names.add('George')\n",
        "\n",
        "\n",
        "\n",
        "# Q8\n",
        "fruit = {'orange': 'citrus',\n",
        "         'bannana': 'berry',\n",
        "         'strawberry': 'nut'}\n",
        "\n",
        "\n",
        "\n",
        "# Intermediate\n",
        "# Q1\n",
        "fraud_watch = [['is_fraud', 'is_risk', 'is_actioned'], [True, False, False]]\n",
        "\n",
        "\n",
        "\n",
        "# Q2\n",
        "fraud_watch[1][0]\n",
        "\n",
        "\n",
        "\n",
        "# Q3\n",
        "supporters = {'name': ['Harold', 'Janice'],\n",
        "              'donation': [10, 30]}\n",
        "\n",
        "\n",
        "\n",
        "# Q4\n",
        "supporters['name'][1]\n",
        "\n",
        "\n",
        "\n",
        "# Advanced\n",
        "# Q1\n",
        "shopping = {'Orange' : {'amount' : 4, 'cost' : 0.75},\n",
        "            'Oat Milk' : {'amount' : 2, 'cost' : 3.50}}\n",
        "\n",
        "\n",
        "\n",
        "# Q2\n",
        "data = {'item': ['hat', 'scarf', 'jeans', 'skirt'],\n",
        "        'quantity': [34, 5, 56, 28],\n",
        "        'cost_per_item': [5, 10, 25, 20]}\n",
        "\n",
        "\n",
        "\n",
        "# Q3:\n",
        "# The answer is 1\n",
        "\n",
        "\n",
        "\n",
        "#Q4:\n",
        "word = 'aardvark'\n",
        "animals = ['cow', 'secretary bird', 'komodo dragon']\n",
        "print(word in animals)"
      ],
      "metadata": {
        "id": "tcW67NnHSy_D"
      },
      "execution_count": null,
      "outputs": []
    }
  ]
}